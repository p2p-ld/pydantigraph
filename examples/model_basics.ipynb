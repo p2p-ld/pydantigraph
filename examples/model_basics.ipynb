{
 "cells": [
  {
   "cell_type": "markdown",
   "source": [
    "# Basic Model Use"
   ],
   "metadata": {
    "collapsed": false
   },
   "id": "c000fb13aa25e69f"
  },
  {
   "cell_type": "code",
   "execution_count": 9,
   "outputs": [],
   "source": [
    "import io\n",
    "from typing import Optional\n",
    "from pyoxigraph import NamedNode, Store\n",
    "from pyoxigraph_pydantic import RDFModel, Namespace, Property\n",
    "from rdflib import Graph"
   ],
   "metadata": {
    "collapsed": false,
    "ExecuteTime": {
     "end_time": "2024-01-12T06:23:37.628322Z",
     "start_time": "2024-01-12T06:23:37.556916Z"
    }
   },
   "id": "5a8c0ea027c9027b"
  },
  {
   "cell_type": "markdown",
   "source": [
    "Define a model using some terms from FOAF"
   ],
   "metadata": {
    "collapsed": false
   },
   "id": "7249fd7a20e847a5"
  },
  {
   "cell_type": "code",
   "execution_count": 2,
   "outputs": [],
   "source": [
    "FOAF = Namespace(iri='http://xmlns.com/foaf/0.1/')\n",
    "\n",
    "class MyModel(RDFModel):\n",
    "    is_a = FOAF.Person\n",
    "    name: Property[str, FOAF.name]\n",
    "    friend: Optional[Property[NamedNode, FOAF.knows]] = None\n"
   ],
   "metadata": {
    "collapsed": false,
    "ExecuteTime": {
     "end_time": "2024-01-12T06:20:26.782783Z",
     "start_time": "2024-01-12T06:20:26.776798Z"
    }
   },
   "id": "7f65e6f9eafe248"
  },
  {
   "cell_type": "markdown",
   "source": [
    "Instantiate a few!"
   ],
   "metadata": {
    "collapsed": false
   },
   "id": "6b9bf10f02bac9f7"
  },
  {
   "cell_type": "code",
   "execution_count": 3,
   "outputs": [],
   "source": [
    "friend = MyModel(iri=\"tmp:#Friend\", name=\"my friend!\")\n",
    "me = MyModel(iri=\"tmp:#Me\", name=\"my friend\", friend=friend)"
   ],
   "metadata": {
    "collapsed": false,
    "ExecuteTime": {
     "end_time": "2024-01-12T06:20:27.762719Z",
     "start_time": "2024-01-12T06:20:27.753377Z"
    }
   },
   "id": "ec1f20f1e59a8ff7"
  },
  {
   "cell_type": "markdown",
   "source": [
    "Save it"
   ],
   "metadata": {
    "collapsed": false
   },
   "id": "92b485175778e18a"
  },
  {
   "cell_type": "code",
   "execution_count": 4,
   "outputs": [],
   "source": [
    "store = Store()\n",
    "me.add(store)"
   ],
   "metadata": {
    "collapsed": false,
    "ExecuteTime": {
     "end_time": "2024-01-12T06:20:28.707432Z",
     "start_time": "2024-01-12T06:20:28.619003Z"
    }
   },
   "id": "9de8842b686443e0"
  },
  {
   "cell_type": "markdown",
   "source": [
    "What the heck did we get?"
   ],
   "metadata": {
    "collapsed": false
   },
   "id": "5ca2a7b5684ccb29"
  },
  {
   "cell_type": "code",
   "execution_count": 10,
   "outputs": [
    {
     "name": "stdout",
     "output_type": "stream",
     "text": [
      "@prefix foaf: <http://xmlns.com/foaf/0.1/> .\n",
      "\n",
      "<tmp:#Me> a foaf:Person ;\n",
      "    foaf:knows <tmp:#Friend> ;\n",
      "    foaf:name \"my friend\" .\n",
      "\n",
      "<tmp:#Friend> a foaf:Person ;\n",
      "    foaf:name \"my friend!\" .\n"
     ]
    }
   ],
   "source": [
    "\n",
    "store.dump('test.ttl', mime_type='test/turtle')\n",
    "rdflib_graph = Graph()\n",
    "rdflib_graph.parse('test.ttl', format='ttl')\n",
    "print(rdflib_graph.serialize(format='ttl'))\n"
   ],
   "metadata": {
    "collapsed": false,
    "ExecuteTime": {
     "end_time": "2024-01-12T06:23:40.536738Z",
     "start_time": "2024-01-12T06:23:40.518363Z"
    }
   },
   "id": "899ef14fc4223d6a"
  },
  {
   "cell_type": "markdown",
   "source": [],
   "metadata": {
    "collapsed": false
   },
   "id": "f3650aa4e4377d28"
  }
 ],
 "metadata": {
  "kernelspec": {
   "display_name": "Python 3",
   "language": "python",
   "name": "python3"
  },
  "language_info": {
   "codemirror_mode": {
    "name": "ipython",
    "version": 2
   },
   "file_extension": ".py",
   "mimetype": "text/x-python",
   "name": "python",
   "nbconvert_exporter": "python",
   "pygments_lexer": "ipython2",
   "version": "2.7.6"
  }
 },
 "nbformat": 4,
 "nbformat_minor": 5
}
